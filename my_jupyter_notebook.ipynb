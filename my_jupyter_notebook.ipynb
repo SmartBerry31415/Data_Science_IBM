{
 "cells": [
  {
   "cell_type": "markdown",
   "id": "6310a502",
   "metadata": {},
   "source": [
    "# My Jupyter Notebook on IBM Watson Studio"
   ]
  },
  {
   "cell_type": "markdown",
   "id": "ed38f34d",
   "metadata": {},
   "source": [
    "__Darya Dubinina__\n",
    "\n",
    "Desired occupation: Machine Learning Engineer in Google "
   ]
  },
  {
   "cell_type": "markdown",
   "id": "81a5c15b",
   "metadata": {},
   "source": [
    "_Why am I interested in Data Science?_\n",
    "\n",
    "_Because I believe that Data Scientists are the one to make our future better by improving our medicine, systems for prevention of emergency situations_\n",
    "_In addition, I started a small pet project in financial analytics area, and DS really do wonders to it!_"
   ]
  },
  {
   "cell_type": "markdown",
   "id": "b128feb6",
   "metadata": {},
   "source": [
    "### The code in the cell below is supposed to print even integers from 10 to 30 (including both numbers)."
   ]
  },
  {
   "cell_type": "code",
   "execution_count": 1,
   "id": "c68e467f",
   "metadata": {},
   "outputs": [
    {
     "name": "stdout",
     "output_type": "stream",
     "text": [
      "10 12 14 16 18 20 22 24 26 28 30 "
     ]
    }
   ],
   "source": [
    "for i in range(10, 31):\n",
    "    if i % 2 == 0:\n",
    "        print(i, end=\" \")"
   ]
  },
  {
   "cell_type": "markdown",
   "id": "fa837357",
   "metadata": {},
   "source": [
    "This work is completed for <a href=\"https://www.coursera.org/professional-certificates/ibm-data-science\"> IBM Data Science Pofessional Certificate </a> specialization on Coursera.\n",
    "<hr>\n",
    "This Specialization consists of the following courses:\n",
    "<ul>\n",
    "    <li>What is Data Science?</li>\n",
    "    <li>Tools for Data Science</li>\n",
    "    <li>Data Science Methodology</li>\n",
    "    <li>Python for Data Science, AI & Development</li>\n",
    "    <li>Python Project for Data Science</li>\n",
    "    <li>Databases and SQL for Data Science with Python</li>\n",
    "    <li>Data Analysis with Python</li>\n",
    "    <li>Data Visualization with Python</li>\n",
    "    <li>Machine Learning with Python</li>\n",
    "    <li>Applied Data Science Capstone</li>\n",
    "</ul>\n",
    "<hr>\n",
    "\n",
    "\n",
    "<table align=\"left\">\n",
    "    <tr><th>Number of Course</th><th>Completion Status</th></tr>\n",
    "    <tr><td>1</td><td>Completed</td></tr>\n",
    "    <tr><td>2</td><td>Completed</td></tr>\n",
    "    <tr><td>3</td><td>Not completed</td></tr>\n",
    "    <tr><td>4</td><td>Completed</td></tr>\n",
    "    <tr><td>5</td><td>Not completed</td></tr>\n",
    "    <tr><td>6</td><td>Not completed</td></tr>\n",
    "    <tr><td>7</td><td>Not completed</td></tr>\n",
    "    <tr><td>8</td><td>Not completed</td></tr>\n",
    "    <tr><td>9</td><td>Not completed</td></tr>\n",
    "    <tr><td>10</td><td>Not completed</td></tr>\n",
    "</table>"
   ]
  },
  {
   "cell_type": "code",
   "execution_count": null,
   "id": "702890f3",
   "metadata": {},
   "outputs": [],
   "source": []
  }
 ],
 "metadata": {
  "kernelspec": {
   "display_name": "Python 3 (ipykernel)",
   "language": "python",
   "name": "python3"
  },
  "language_info": {
   "codemirror_mode": {
    "name": "ipython",
    "version": 3
   },
   "file_extension": ".py",
   "mimetype": "text/x-python",
   "name": "python",
   "nbconvert_exporter": "python",
   "pygments_lexer": "ipython3",
   "version": "3.9.7"
  }
 },
 "nbformat": 4,
 "nbformat_minor": 5
}
